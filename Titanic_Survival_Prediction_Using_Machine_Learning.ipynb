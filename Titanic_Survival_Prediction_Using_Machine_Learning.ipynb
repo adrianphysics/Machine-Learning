{
  "nbformat": 4,
  "nbformat_minor": 0,
  "metadata": {
    "colab": {
      "name": "Titanic_Survival_Prediction_Using_Machine_Learning.ipynb",
      "provenance": [],
      "collapsed_sections": []
    },
    "kernelspec": {
      "name": "python3",
      "display_name": "Python 3"
    }
  },
  "cells": [
    {
      "cell_type": "markdown",
      "metadata": {
        "id": "0hzXsHDlxQwj",
        "colab_type": "text"
      },
      "source": [
        "<h1>Machine Learning to predict if a passenger will survive Titanic</h1>"
      ]
    },
    {
      "cell_type": "code",
      "metadata": {
        "id": "Pctf45PowmrR",
        "colab_type": "code",
        "colab": {}
      },
      "source": [
        "import numpy as np\n",
        "import pandas as pd\n",
        "import seaborn as sns\n",
        "import matplotlib.pyplot as plt\n",
        "from sklearn.preprocessing import LabelEncoder, StandardScaler\n",
        "from sklearn.model_selection import train_test_split\n",
        "from sklearn.linear_model import LogisticRegression\n",
        "from sklearn.neighbors import KNeighborsClassifier\n",
        "from sklearn.svm import SVC\n",
        "from sklearn.naive_bayes import GaussianNB\n",
        "from sklearn.tree import DecisionTreeClassifier\n",
        "from sklearn.ensemble import RandomForestClassifier\n",
        "from sklearn.metrics import confusion_matrix"
      ],
      "execution_count": 0,
      "outputs": []
    },
    {
      "cell_type": "code",
      "metadata": {
        "id": "kGNGcN8QxaC-",
        "colab_type": "code",
        "outputId": "ab8bc428-2c9a-4c3f-d373-e0fbb92c33b1",
        "colab": {
          "base_uri": "https://localhost:8080/",
          "height": 224
        }
      },
      "source": [
        "#Load Data\n",
        "titanic = sns.load_dataset('titanic')\n",
        "\n",
        "titanic.head()"
      ],
      "execution_count": 0,
      "outputs": [
        {
          "output_type": "execute_result",
          "data": {
            "text/html": [
              "<div>\n",
              "<style scoped>\n",
              "    .dataframe tbody tr th:only-of-type {\n",
              "        vertical-align: middle;\n",
              "    }\n",
              "\n",
              "    .dataframe tbody tr th {\n",
              "        vertical-align: top;\n",
              "    }\n",
              "\n",
              "    .dataframe thead th {\n",
              "        text-align: right;\n",
              "    }\n",
              "</style>\n",
              "<table border=\"1\" class=\"dataframe\">\n",
              "  <thead>\n",
              "    <tr style=\"text-align: right;\">\n",
              "      <th></th>\n",
              "      <th>survived</th>\n",
              "      <th>pclass</th>\n",
              "      <th>sex</th>\n",
              "      <th>age</th>\n",
              "      <th>sibsp</th>\n",
              "      <th>parch</th>\n",
              "      <th>fare</th>\n",
              "      <th>embarked</th>\n",
              "      <th>class</th>\n",
              "      <th>who</th>\n",
              "      <th>adult_male</th>\n",
              "      <th>deck</th>\n",
              "      <th>embark_town</th>\n",
              "      <th>alive</th>\n",
              "      <th>alone</th>\n",
              "    </tr>\n",
              "  </thead>\n",
              "  <tbody>\n",
              "    <tr>\n",
              "      <th>0</th>\n",
              "      <td>0</td>\n",
              "      <td>3</td>\n",
              "      <td>male</td>\n",
              "      <td>22.0</td>\n",
              "      <td>1</td>\n",
              "      <td>0</td>\n",
              "      <td>7.2500</td>\n",
              "      <td>S</td>\n",
              "      <td>Third</td>\n",
              "      <td>man</td>\n",
              "      <td>True</td>\n",
              "      <td>NaN</td>\n",
              "      <td>Southampton</td>\n",
              "      <td>no</td>\n",
              "      <td>False</td>\n",
              "    </tr>\n",
              "    <tr>\n",
              "      <th>1</th>\n",
              "      <td>1</td>\n",
              "      <td>1</td>\n",
              "      <td>female</td>\n",
              "      <td>38.0</td>\n",
              "      <td>1</td>\n",
              "      <td>0</td>\n",
              "      <td>71.2833</td>\n",
              "      <td>C</td>\n",
              "      <td>First</td>\n",
              "      <td>woman</td>\n",
              "      <td>False</td>\n",
              "      <td>C</td>\n",
              "      <td>Cherbourg</td>\n",
              "      <td>yes</td>\n",
              "      <td>False</td>\n",
              "    </tr>\n",
              "    <tr>\n",
              "      <th>2</th>\n",
              "      <td>1</td>\n",
              "      <td>3</td>\n",
              "      <td>female</td>\n",
              "      <td>26.0</td>\n",
              "      <td>0</td>\n",
              "      <td>0</td>\n",
              "      <td>7.9250</td>\n",
              "      <td>S</td>\n",
              "      <td>Third</td>\n",
              "      <td>woman</td>\n",
              "      <td>False</td>\n",
              "      <td>NaN</td>\n",
              "      <td>Southampton</td>\n",
              "      <td>yes</td>\n",
              "      <td>True</td>\n",
              "    </tr>\n",
              "    <tr>\n",
              "      <th>3</th>\n",
              "      <td>1</td>\n",
              "      <td>1</td>\n",
              "      <td>female</td>\n",
              "      <td>35.0</td>\n",
              "      <td>1</td>\n",
              "      <td>0</td>\n",
              "      <td>53.1000</td>\n",
              "      <td>S</td>\n",
              "      <td>First</td>\n",
              "      <td>woman</td>\n",
              "      <td>False</td>\n",
              "      <td>C</td>\n",
              "      <td>Southampton</td>\n",
              "      <td>yes</td>\n",
              "      <td>False</td>\n",
              "    </tr>\n",
              "    <tr>\n",
              "      <th>4</th>\n",
              "      <td>0</td>\n",
              "      <td>3</td>\n",
              "      <td>male</td>\n",
              "      <td>35.0</td>\n",
              "      <td>0</td>\n",
              "      <td>0</td>\n",
              "      <td>8.0500</td>\n",
              "      <td>S</td>\n",
              "      <td>Third</td>\n",
              "      <td>man</td>\n",
              "      <td>True</td>\n",
              "      <td>NaN</td>\n",
              "      <td>Southampton</td>\n",
              "      <td>no</td>\n",
              "      <td>True</td>\n",
              "    </tr>\n",
              "  </tbody>\n",
              "</table>\n",
              "</div>"
            ],
            "text/plain": [
              "   survived  pclass     sex   age  ...  deck  embark_town  alive  alone\n",
              "0         0       3    male  22.0  ...   NaN  Southampton     no  False\n",
              "1         1       1  female  38.0  ...     C    Cherbourg    yes  False\n",
              "2         1       3  female  26.0  ...   NaN  Southampton    yes   True\n",
              "3         1       1  female  35.0  ...     C  Southampton    yes  False\n",
              "4         0       3    male  35.0  ...   NaN  Southampton     no   True\n",
              "\n",
              "[5 rows x 15 columns]"
            ]
          },
          "metadata": {
            "tags": []
          },
          "execution_count": 3
        }
      ]
    },
    {
      "cell_type": "code",
      "metadata": {
        "id": "5ozuXG2cyH69",
        "colab_type": "code",
        "outputId": "b9c30877-bd68-4f77-9903-d659793e01bd",
        "colab": {
          "base_uri": "https://localhost:8080/",
          "height": 238
        }
      },
      "source": [
        "#Shape of dataset\n",
        "print('Rows: ', titanic.shape[0])\n",
        "print('Columns: ', titanic.shape[1])\n",
        "print('\\n')\n",
        "print(titanic.describe())"
      ],
      "execution_count": 0,
      "outputs": [
        {
          "output_type": "stream",
          "text": [
            "Rows:  891\n",
            "Columns:  15\n",
            "\n",
            "\n",
            "         survived      pclass         age       sibsp       parch        fare\n",
            "count  891.000000  891.000000  714.000000  891.000000  891.000000  891.000000\n",
            "mean     0.383838    2.308642   29.699118    0.523008    0.381594   32.204208\n",
            "std      0.486592    0.836071   14.526497    1.102743    0.806057   49.693429\n",
            "min      0.000000    1.000000    0.420000    0.000000    0.000000    0.000000\n",
            "25%      0.000000    2.000000   20.125000    0.000000    0.000000    7.910400\n",
            "50%      0.000000    3.000000   28.000000    0.000000    0.000000   14.454200\n",
            "75%      1.000000    3.000000   38.000000    1.000000    0.000000   31.000000\n",
            "max      1.000000    3.000000   80.000000    8.000000    6.000000  512.329200\n"
          ],
          "name": "stdout"
        }
      ]
    },
    {
      "cell_type": "code",
      "metadata": {
        "id": "siLZj6_Ly7xr",
        "colab_type": "code",
        "outputId": "d4affe2f-b025-4677-ad23-9e556e524fcf",
        "colab": {
          "base_uri": "https://localhost:8080/",
          "height": 68
        }
      },
      "source": [
        "#Get count of survivors\n",
        "#0 = did not survive, 1 = survived\n",
        "titanic['survived'].value_counts()"
      ],
      "execution_count": 0,
      "outputs": [
        {
          "output_type": "execute_result",
          "data": {
            "text/plain": [
              "0    549\n",
              "1    342\n",
              "Name: survived, dtype: int64"
            ]
          },
          "metadata": {
            "tags": []
          },
          "execution_count": 5
        }
      ]
    },
    {
      "cell_type": "code",
      "metadata": {
        "id": "EE9Ehg1B0Dz9",
        "colab_type": "code",
        "outputId": "84ad7760-8780-4d2d-e1a9-e6978e14cb73",
        "colab": {
          "base_uri": "https://localhost:8080/",
          "height": 295
        }
      },
      "source": [
        "sns.countplot(titanic['survived'])\n",
        "plt.title('Survivors')\n",
        "plt.show()"
      ],
      "execution_count": 0,
      "outputs": [
        {
          "output_type": "display_data",
          "data": {
            "image/png": "[encoded data removed]",
            "text/plain": [
              "<Figure size 432x288 with 1 Axes>"
            ]
          },
          "metadata": {
            "tags": []
          }
        }
      ]
    },
    {
      "cell_type": "code",
      "metadata": {
        "id": "kIE27erR0UeN",
        "colab_type": "code",
        "outputId": "8def023d-fa04-4932-818e-b77f3648acea",
        "colab": {
          "base_uri": "https://localhost:8080/",
          "height": 470
        }
      },
      "source": [
        "#Visualize the count of survivors by various columns/features/categories\n",
        "\n",
        "titanic.columns\n",
        "\n",
        "cols = ['pclass', 'sex','who','sibsp','parch','embarked']\n",
        "\n",
        "n_rows = 2\n",
        "n_cols = 3\n",
        "\n",
        "#subplot grid and figure size of each plot (2x3)\n",
        "fig, axs = plt.subplots(n_rows, n_cols, figsize=(n_cols*3.2,n_rows*3.2))\n",
        "\n",
        "for r in range(0,n_rows):\n",
        "  for c in range(0,n_cols):\n",
        "\n",
        "    #index to go through number of columns (0-5)\n",
        "    i = r*n_cols + c\n",
        "    #show where to position each subplot\n",
        "    ax = axs[r][c]\n",
        "    sns.countplot(titanic[cols[i]],hue=titanic['survived'],ax=ax)\n",
        "    ax.set_title(cols[i])\n",
        "    ax.legend(title='Survived',loc='best')\n",
        "\n",
        "plt.tight_layout()"
      ],
      "execution_count": 0,
      "outputs": [
        {
          "output_type": "display_data",
          "data": {
            "image/png": "[encoded data removed]",
            "text/plain": [
              "<Figure size 691.2x460.8 with 6 Axes>"
            ]
          },
          "metadata": {
            "tags": []
          }
        }
      ]
    },
    {
      "cell_type": "code",
      "metadata": {
        "id": "akT5BzHp4PPe",
        "colab_type": "code",
        "outputId": "d23f204a-ac72-42ec-e92e-d52b72f15c81",
        "colab": {
          "base_uri": "https://localhost:8080/",
          "height": 545
        }
      },
      "source": [
        "#Survival Rate\n",
        "titanic.groupby(['parch','embarked'])[['survived']].mean()"
      ],
      "execution_count": 0,
      "outputs": [
        {
          "output_type": "execute_result",
          "data": {
            "text/html": [
              "<div>\n",
              "<style scoped>\n",
              "    .dataframe tbody tr th:only-of-type {\n",
              "        vertical-align: middle;\n",
              "    }\n",
              "\n",
              "    .dataframe tbody tr th {\n",
              "        vertical-align: top;\n",
              "    }\n",
              "\n",
              "    .dataframe thead th {\n",
              "        text-align: right;\n",
              "    }\n",
              "</style>\n",
              "<table border=\"1\" class=\"dataframe\">\n",
              "  <thead>\n",
              "    <tr style=\"text-align: right;\">\n",
              "      <th></th>\n",
              "      <th></th>\n",
              "      <th>survived</th>\n",
              "    </tr>\n",
              "    <tr>\n",
              "      <th>parch</th>\n",
              "      <th>embarked</th>\n",
              "      <th></th>\n",
              "    </tr>\n",
              "  </thead>\n",
              "  <tbody>\n",
              "    <tr>\n",
              "      <th rowspan=\"3\" valign=\"top\">0</th>\n",
              "      <th>C</th>\n",
              "      <td>0.512195</td>\n",
              "    </tr>\n",
              "    <tr>\n",
              "      <th>Q</th>\n",
              "      <td>0.434783</td>\n",
              "    </tr>\n",
              "    <tr>\n",
              "      <th>S</th>\n",
              "      <td>0.285124</td>\n",
              "    </tr>\n",
              "    <tr>\n",
              "      <th rowspan=\"3\" valign=\"top\">1</th>\n",
              "      <th>C</th>\n",
              "      <td>0.633333</td>\n",
              "    </tr>\n",
              "    <tr>\n",
              "      <th>Q</th>\n",
              "      <td>0.000000</td>\n",
              "    </tr>\n",
              "    <tr>\n",
              "      <th>S</th>\n",
              "      <td>0.560976</td>\n",
              "    </tr>\n",
              "    <tr>\n",
              "      <th rowspan=\"3\" valign=\"top\">2</th>\n",
              "      <th>C</th>\n",
              "      <td>0.714286</td>\n",
              "    </tr>\n",
              "    <tr>\n",
              "      <th>Q</th>\n",
              "      <td>0.000000</td>\n",
              "    </tr>\n",
              "    <tr>\n",
              "      <th>S</th>\n",
              "      <td>0.461538</td>\n",
              "    </tr>\n",
              "    <tr>\n",
              "      <th rowspan=\"2\" valign=\"top\">3</th>\n",
              "      <th>C</th>\n",
              "      <td>1.000000</td>\n",
              "    </tr>\n",
              "    <tr>\n",
              "      <th>S</th>\n",
              "      <td>0.500000</td>\n",
              "    </tr>\n",
              "    <tr>\n",
              "      <th>4</th>\n",
              "      <th>S</th>\n",
              "      <td>0.000000</td>\n",
              "    </tr>\n",
              "    <tr>\n",
              "      <th rowspan=\"2\" valign=\"top\">5</th>\n",
              "      <th>Q</th>\n",
              "      <td>0.000000</td>\n",
              "    </tr>\n",
              "    <tr>\n",
              "      <th>S</th>\n",
              "      <td>0.250000</td>\n",
              "    </tr>\n",
              "    <tr>\n",
              "      <th>6</th>\n",
              "      <th>S</th>\n",
              "      <td>0.000000</td>\n",
              "    </tr>\n",
              "  </tbody>\n",
              "</table>\n",
              "</div>"
            ],
            "text/plain": [
              "                survived\n",
              "parch embarked          \n",
              "0     C         0.512195\n",
              "      Q         0.434783\n",
              "      S         0.285124\n",
              "1     C         0.633333\n",
              "      Q         0.000000\n",
              "      S         0.560976\n",
              "2     C         0.714286\n",
              "      Q         0.000000\n",
              "      S         0.461538\n",
              "3     C         1.000000\n",
              "      S         0.500000\n",
              "4     S         0.000000\n",
              "5     Q         0.000000\n",
              "      S         0.250000\n",
              "6     S         0.000000"
            ]
          },
          "metadata": {
            "tags": []
          },
          "execution_count": 8
        }
      ]
    },
    {
      "cell_type": "code",
      "metadata": {
        "id": "-eU8dSjF4cxl",
        "colab_type": "code",
        "outputId": "62ae429d-84e9-4729-dd61-c7c561228081",
        "colab": {
          "base_uri": "https://localhost:8080/",
          "height": 450
        }
      },
      "source": [
        "#Survival Rate\n",
        "titanic.pivot_table('survived',index='fare',columns='class')"
      ],
      "execution_count": 0,
      "outputs": [
        {
          "output_type": "execute_result",
          "data": {
            "text/html": [
              "<div>\n",
              "<style scoped>\n",
              "    .dataframe tbody tr th:only-of-type {\n",
              "        vertical-align: middle;\n",
              "    }\n",
              "\n",
              "    .dataframe tbody tr th {\n",
              "        vertical-align: top;\n",
              "    }\n",
              "\n",
              "    .dataframe thead th {\n",
              "        text-align: right;\n",
              "    }\n",
              "</style>\n",
              "<table border=\"1\" class=\"dataframe\">\n",
              "  <thead>\n",
              "    <tr style=\"text-align: right;\">\n",
              "      <th>class</th>\n",
              "      <th>First</th>\n",
              "      <th>Second</th>\n",
              "      <th>Third</th>\n",
              "    </tr>\n",
              "    <tr>\n",
              "      <th>fare</th>\n",
              "      <th></th>\n",
              "      <th></th>\n",
              "      <th></th>\n",
              "    </tr>\n",
              "  </thead>\n",
              "  <tbody>\n",
              "    <tr>\n",
              "      <th>0.0000</th>\n",
              "      <td>0.00</td>\n",
              "      <td>0.0</td>\n",
              "      <td>0.25</td>\n",
              "    </tr>\n",
              "    <tr>\n",
              "      <th>4.0125</th>\n",
              "      <td>NaN</td>\n",
              "      <td>NaN</td>\n",
              "      <td>0.00</td>\n",
              "    </tr>\n",
              "    <tr>\n",
              "      <th>5.0000</th>\n",
              "      <td>0.00</td>\n",
              "      <td>NaN</td>\n",
              "      <td>NaN</td>\n",
              "    </tr>\n",
              "    <tr>\n",
              "      <th>6.2375</th>\n",
              "      <td>NaN</td>\n",
              "      <td>NaN</td>\n",
              "      <td>0.00</td>\n",
              "    </tr>\n",
              "    <tr>\n",
              "      <th>6.4375</th>\n",
              "      <td>NaN</td>\n",
              "      <td>NaN</td>\n",
              "      <td>0.00</td>\n",
              "    </tr>\n",
              "    <tr>\n",
              "      <th>...</th>\n",
              "      <td>...</td>\n",
              "      <td>...</td>\n",
              "      <td>...</td>\n",
              "    </tr>\n",
              "    <tr>\n",
              "      <th>227.5250</th>\n",
              "      <td>0.75</td>\n",
              "      <td>NaN</td>\n",
              "      <td>NaN</td>\n",
              "    </tr>\n",
              "    <tr>\n",
              "      <th>247.5208</th>\n",
              "      <td>0.50</td>\n",
              "      <td>NaN</td>\n",
              "      <td>NaN</td>\n",
              "    </tr>\n",
              "    <tr>\n",
              "      <th>262.3750</th>\n",
              "      <td>1.00</td>\n",
              "      <td>NaN</td>\n",
              "      <td>NaN</td>\n",
              "    </tr>\n",
              "    <tr>\n",
              "      <th>263.0000</th>\n",
              "      <td>0.50</td>\n",
              "      <td>NaN</td>\n",
              "      <td>NaN</td>\n",
              "    </tr>\n",
              "    <tr>\n",
              "      <th>512.3292</th>\n",
              "      <td>1.00</td>\n",
              "      <td>NaN</td>\n",
              "      <td>NaN</td>\n",
              "    </tr>\n",
              "  </tbody>\n",
              "</table>\n",
              "<p>248 rows × 3 columns</p>\n",
              "</div>"
            ],
            "text/plain": [
              "class     First  Second  Third\n",
              "fare                          \n",
              "0.0000     0.00     0.0   0.25\n",
              "4.0125      NaN     NaN   0.00\n",
              "5.0000     0.00     NaN    NaN\n",
              "6.2375      NaN     NaN   0.00\n",
              "6.4375      NaN     NaN   0.00\n",
              "...         ...     ...    ...\n",
              "227.5250   0.75     NaN    NaN\n",
              "247.5208   0.50     NaN    NaN\n",
              "262.3750   1.00     NaN    NaN\n",
              "263.0000   0.50     NaN    NaN\n",
              "512.3292   1.00     NaN    NaN\n",
              "\n",
              "[248 rows x 3 columns]"
            ]
          },
          "metadata": {
            "tags": []
          },
          "execution_count": 9
        }
      ]
    },
    {
      "cell_type": "code",
      "metadata": {
        "id": "i1srgo52418I",
        "colab_type": "code",
        "outputId": "bc749eb3-79c9-4400-f0d2-3a0f11ee360a",
        "colab": {
          "base_uri": "https://localhost:8080/",
          "height": 279
        }
      },
      "source": [
        "#Visual Survival Rate\n",
        "titanic.pivot_table('survived',index='fare',columns='class').plot()\n",
        "plt.show()"
      ],
      "execution_count": 0,
      "outputs": [
        {
          "output_type": "display_data",
          "data": {
            "image/png": "[encoded data removed]",
            "text/plain": [
              "<Figure size 432x288 with 1 Axes>"
            ]
          },
          "metadata": {
            "tags": []
          }
        }
      ]
    },
    {
      "cell_type": "code",
      "metadata": {
        "id": "hyD68rhR5ket",
        "colab_type": "code",
        "outputId": "b567f5be-714c-4065-e97d-3d0b3e0a7818",
        "colab": {
          "base_uri": "https://localhost:8080/",
          "height": 279
        }
      },
      "source": [
        "#Survival Rate of each Class\n",
        "sns.barplot(x='class',y='survived',data=titanic)\n",
        "plt.show()"
      ],
      "execution_count": 0,
      "outputs": [
        {
          "output_type": "display_data",
          "data": {
            "image/png": "[encoded data removed]",
            "text/plain": [
              "<Figure size 432x288 with 1 Axes>"
            ]
          },
          "metadata": {
            "tags": []
          }
        }
      ]
    },
    {
      "cell_type": "code",
      "metadata": {
        "id": "5lHOrUdl7AkP",
        "colab_type": "code",
        "outputId": "3d94ea7f-4d42-47cd-e123-96125abfc6ea",
        "colab": {
          "base_uri": "https://localhost:8080/",
          "height": 295
        }
      },
      "source": [
        "#Prices paid by each class\n",
        "#x axis = fare, y axis = class\n",
        "plt.scatter(titanic['fare'],titanic['class'],color='purple',label='Passenger Paid')\n",
        "plt.title('Price of Each Class')\n",
        "plt.xlabel('Price/Fare')\n",
        "plt.ylabel('Class')\n",
        "plt.legend()\n",
        "plt.show()"
      ],
      "execution_count": 0,
      "outputs": [
        {
          "output_type": "display_data",
          "data": {
            "image/png": "[encoded data removed]",
            "text/plain": [
              "<Figure size 432x288 with 1 Axes>"
            ]
          },
          "metadata": {
            "tags": []
          }
        }
      ]
    },
    {
      "cell_type": "code",
      "metadata": {
        "id": "dynmOwJy74xf",
        "colab_type": "code",
        "outputId": "2b9ed60e-c620-4541-e8c7-8b837e07293b",
        "colab": {
          "base_uri": "https://localhost:8080/",
          "height": 289
        }
      },
      "source": [
        "#Count the empty_values/NaN values in each column\n",
        "titanic.isna().sum()"
      ],
      "execution_count": 0,
      "outputs": [
        {
          "output_type": "execute_result",
          "data": {
            "text/plain": [
              "survived         0\n",
              "pclass           0\n",
              "sex              0\n",
              "age            177\n",
              "sibsp            0\n",
              "parch            0\n",
              "fare             0\n",
              "embarked         2\n",
              "class            0\n",
              "who              0\n",
              "adult_male       0\n",
              "deck           688\n",
              "embark_town      2\n",
              "alive            0\n",
              "alone            0\n",
              "dtype: int64"
            ]
          },
          "metadata": {
            "tags": []
          },
          "execution_count": 13
        }
      ]
    },
    {
      "cell_type": "code",
      "metadata": {
        "id": "v7N9nQQu8TWR",
        "colab_type": "code",
        "outputId": "33c4907c-2c0c-4b2e-fb1e-dc22404f4b4d",
        "colab": {
          "base_uri": "https://localhost:8080/",
          "height": 1000
        }
      },
      "source": [
        "#Values in each column and get a count\n",
        "for val in titanic:\n",
        "  print(titanic[val].value_counts())"
      ],
      "execution_count": 0,
      "outputs": [
        {
          "output_type": "stream",
          "text": [
            "0    549\n",
            "1    342\n",
            "Name: survived, dtype: int64\n",
            "3    491\n",
            "1    216\n",
            "2    184\n",
            "Name: pclass, dtype: int64\n",
            "male      577\n",
            "female    314\n",
            "Name: sex, dtype: int64\n",
            "24.00    30\n",
            "22.00    27\n",
            "18.00    26\n",
            "19.00    25\n",
            "30.00    25\n",
            "         ..\n",
            "55.50     1\n",
            "70.50     1\n",
            "66.00     1\n",
            "23.50     1\n",
            "0.42      1\n",
            "Name: age, Length: 88, dtype: int64\n",
            "0    608\n",
            "1    209\n",
            "2     28\n",
            "4     18\n",
            "3     16\n",
            "8      7\n",
            "5      5\n",
            "Name: sibsp, dtype: int64\n",
            "0    678\n",
            "1    118\n",
            "2     80\n",
            "5      5\n",
            "3      5\n",
            "4      4\n",
            "6      1\n",
            "Name: parch, dtype: int64\n",
            "8.0500     43\n",
            "13.0000    42\n",
            "7.8958     38\n",
            "7.7500     34\n",
            "26.0000    31\n",
            "           ..\n",
            "8.4583      1\n",
            "9.8375      1\n",
            "8.3625      1\n",
            "14.1083     1\n",
            "17.4000     1\n",
            "Name: fare, Length: 248, dtype: int64\n",
            "S    644\n",
            "C    168\n",
            "Q     77\n",
            "Name: embarked, dtype: int64\n",
            "Third     491\n",
            "First     216\n",
            "Second    184\n",
            "Name: class, dtype: int64\n",
            "man      537\n",
            "woman    271\n",
            "child     83\n",
            "Name: who, dtype: int64\n",
            "True     537\n",
            "False    354\n",
            "Name: adult_male, dtype: int64\n",
            "C    59\n",
            "B    47\n",
            "D    33\n",
            "E    32\n",
            "A    15\n",
            "F    13\n",
            "G     4\n",
            "Name: deck, dtype: int64\n",
            "Southampton    644\n",
            "Cherbourg      168\n",
            "Queenstown      77\n",
            "Name: embark_town, dtype: int64\n",
            "no     549\n",
            "yes    342\n",
            "Name: alive, dtype: int64\n",
            "True     537\n",
            "False    354\n",
            "Name: alone, dtype: int64\n"
          ],
          "name": "stdout"
        }
      ]
    },
    {
      "cell_type": "code",
      "metadata": {
        "id": "4aK2Xf8V9Rf2",
        "colab_type": "code",
        "colab": {}
      },
      "source": [
        "#Drop columns\n",
        "titanic.drop(['deck','embark_town','alive','class','who','alone','adult_male'],axis=1,inplace=True)\n",
        "\n",
        "#Remove rows with missing values\n",
        "titanic.dropna(subset=['embarked','age'],inplace=True)"
      ],
      "execution_count": 0,
      "outputs": []
    },
    {
      "cell_type": "code",
      "metadata": {
        "id": "9-IMKScA9-s-",
        "colab_type": "code",
        "outputId": "62f07f2e-ba6e-4f81-be70-5316f9635bc2",
        "colab": {
          "base_uri": "https://localhost:8080/",
          "height": 204
        }
      },
      "source": [
        "#Count the new number of rows and columns in dataset\n",
        "print(\"Rows: \",titanic.shape[0])\n",
        "print(\"Columns: \",titanic.shape[1])\n",
        "\n",
        "print(titanic.dtypes)"
      ],
      "execution_count": 0,
      "outputs": [
        {
          "output_type": "stream",
          "text": [
            "Rows:  712\n",
            "Columns:  8\n",
            "survived      int64\n",
            "pclass        int64\n",
            "sex          object\n",
            "age         float64\n",
            "sibsp         int64\n",
            "parch         int64\n",
            "fare        float64\n",
            "embarked     object\n",
            "dtype: object\n"
          ],
          "name": "stdout"
        }
      ]
    },
    {
      "cell_type": "code",
      "metadata": {
        "id": "oCRyGrJl-0oK",
        "colab_type": "code",
        "colab": {}
      },
      "source": [
        "labelencoder = LabelEncoder()\n",
        "\n",
        "titanic.iloc[:,2] = labelencoder.fit_transform(titanic.iloc[:,2].values)\n",
        "\n",
        "titanic.iloc[:,7] = labelencoder.fit_transform(titanic.iloc[:,7].values)"
      ],
      "execution_count": 0,
      "outputs": []
    },
    {
      "cell_type": "code",
      "metadata": {
        "id": "M7HrT1Mo_f3k",
        "colab_type": "code",
        "outputId": "79e83aef-c13a-47c3-f69e-22b1d4aa6928",
        "colab": {
          "base_uri": "https://localhost:8080/",
          "height": 170
        }
      },
      "source": [
        "titanic.dtypes"
      ],
      "execution_count": 0,
      "outputs": [
        {
          "output_type": "execute_result",
          "data": {
            "text/plain": [
              "survived      int64\n",
              "pclass        int64\n",
              "sex           int64\n",
              "age         float64\n",
              "sibsp         int64\n",
              "parch         int64\n",
              "fare        float64\n",
              "embarked      int64\n",
              "dtype: object"
            ]
          },
          "metadata": {
            "tags": []
          },
          "execution_count": 18
        }
      ]
    },
    {
      "cell_type": "markdown",
      "metadata": {
        "id": "HwRZbfpcAQM5",
        "colab_type": "text"
      },
      "source": [
        "<h1>Machine Learning</h1>\n"
      ]
    },
    {
      "cell_type": "code",
      "metadata": {
        "id": "T1xiW4Dr_hza",
        "colab_type": "code",
        "colab": {}
      },
      "source": [
        "#Split the data into independent(x) and dependent(y) variables\n",
        "\n",
        "X = titanic.iloc[:,1:8].values\n",
        "y = titanic.iloc[:,0].values"
      ],
      "execution_count": 0,
      "outputs": []
    },
    {
      "cell_type": "code",
      "metadata": {
        "id": "eOjpXyB-ALLZ",
        "colab_type": "code",
        "colab": {}
      },
      "source": [
        "X_train,X_test,y_train,y_test = train_test_split(X,y)"
      ],
      "execution_count": 0,
      "outputs": []
    },
    {
      "cell_type": "code",
      "metadata": {
        "id": "Mz5JmogwAycd",
        "colab_type": "code",
        "colab": {}
      },
      "source": [
        "#Scale the data\n",
        "sc = StandardScaler()\n",
        "\n",
        "X_train = sc.fit_transform(X_train)\n",
        "X_test = sc.fit_transform(X_test)"
      ],
      "execution_count": 0,
      "outputs": []
    },
    {
      "cell_type": "code",
      "metadata": {
        "id": "OCdKFbwRAEAZ",
        "colab_type": "code",
        "colab": {}
      },
      "source": [
        "#Create function with many machine learning models\n",
        "\n",
        "def models(X_train,y_train):\n",
        "\n",
        "  #Logistic Regression\n",
        "  log = LogisticRegression(random_state=0)\n",
        "  log.fit(X_train,y_train)\n",
        "\n",
        "  #KNN\n",
        "  knn = KNeighborsClassifier(n_neighbors=5,metric='minkowski',p=2)\n",
        "  knn.fit(X_train,y_train)\n",
        "\n",
        "  #SVC (linear kernel)\n",
        "  svc_lin = SVC(kernel='linear', random_state=0)\n",
        "  svc_lin.fit(X_train,y_train)\n",
        "\n",
        "  #SVC (RBF kernel)\n",
        "  svc_rbf = SVC(kernel='rbf', random_state=0)\n",
        "  svc_rbf.fit(X_train,y_train)\n",
        "\n",
        "  #Gaussian NB\n",
        "  gauss = GaussianNB()\n",
        "  gauss.fit(X_train,y_train)\n",
        "\n",
        "  #Decision Tree\n",
        "  tree = DecisionTreeClassifier(criterion='entropy',random_state=0)\n",
        "  tree.fit(X_train,y_train)\n",
        "\n",
        "  #Random Forest\n",
        "  forest = RandomForestClassifier(n_estimators=10,criterion='entropy',random_state=0)\n",
        "  forest.fit(X_train,y_train)\n",
        "\n",
        "  #Training Accuracy\n",
        "  print('[0]Logistic Regression Training Accuracy: ', log.score(X_train,y_train))\n",
        "  print('[1]KNN Training Accuracy: ', knn.score(X_train,y_train))\n",
        "  print('[2]SVC Linear Training Accuracy: ', svc_lin.score(X_train,y_train))\n",
        "  print('[3]SVC RBF Regression Training Accuracy: ', svc_rbf.score(X_train,y_train))\n",
        "  print('[4]GaussianNB Regression Training Accuracy: ', gauss.score(X_train,y_train))\n",
        "  print('[5]Decision Tree Regression Training Accuracy: ', tree.score(X_train,y_train))\n",
        "  print('[6]Forest Regression Training Accuracy: ', forest.score(X_train,y_train))\n",
        "\n",
        "\n",
        "  return log, knn, svc_lin, svc_rbf, gauss, tree, forest"
      ],
      "execution_count": 0,
      "outputs": []
    },
    {
      "cell_type": "markdown",
      "metadata": {
        "id": "CmESl22jES4q",
        "colab_type": "text"
      },
      "source": [
        "<h1>Accuracy</h1>"
      ]
    },
    {
      "cell_type": "code",
      "metadata": {
        "id": "dsLGQbWFD9dg",
        "colab_type": "code",
        "outputId": "603dd369-d656-4ae8-860b-fd4ccfa359f5",
        "colab": {
          "base_uri": "https://localhost:8080/",
          "height": 136
        }
      },
      "source": [
        "#Get and train all of the models\n",
        "model = models(X_train,y_train)"
      ],
      "execution_count": 0,
      "outputs": [
        {
          "output_type": "stream",
          "text": [
            "[0]Logistic Regression Training Accuracy:  0.8014981273408239\n",
            "[1]KNN Training Accuracy:  0.8614232209737828\n",
            "[2]SVC Linear Training Accuracy:  0.7715355805243446\n",
            "[3]SVC RBF Regression Training Accuracy:  0.8389513108614233\n",
            "[4]GaussianNB Regression Training Accuracy:  0.7902621722846442\n",
            "[5]Decision Tree Regression Training Accuracy:  0.9906367041198502\n",
            "[6]Forest Regression Training Accuracy:  0.9756554307116105\n"
          ],
          "name": "stdout"
        }
      ]
    },
    {
      "cell_type": "markdown",
      "metadata": {
        "id": "qZ5keNUqFGMK",
        "colab_type": "text"
      },
      "source": [
        "<h1>Confusion Matrix</h1>"
      ]
    },
    {
      "cell_type": "code",
      "metadata": {
        "id": "QNxkZqOQEQ6B",
        "colab_type": "code",
        "outputId": "ca8fb1fe-bda5-4ae4-ab17-1b14d8b70c0f",
        "colab": {
          "base_uri": "https://localhost:8080/",
          "height": 612
        }
      },
      "source": [
        "for i in range(len(model)):\n",
        "  cm = confusion_matrix(y_test,model[i].predict(X_test))\n",
        "\n",
        "  #TN,FP,FN,TP\n",
        "  TN,FP,FN,TP = confusion_matrix(y_test,model[i].predict(X_test)).ravel()\n",
        "\n",
        "  score = (TP+TN)/(TP+TN+FN+FP)\n",
        "  print(cm)\n",
        "  print('Model[{0}] Testing Accuracy = {1}'.format(i,score))\n",
        "  print('\\n')\n",
        "\n"
      ],
      "execution_count": 0,
      "outputs": [
        {
          "output_type": "stream",
          "text": [
            "[[94 11]\n",
            " [20 53]]\n",
            "Model[0] Testing Accuracy = 0.8258426966292135\n",
            "\n",
            "\n",
            "[[87 18]\n",
            " [18 55]]\n",
            "Model[1] Testing Accuracy = 0.797752808988764\n",
            "\n",
            "\n",
            "[[93 12]\n",
            " [23 50]]\n",
            "Model[2] Testing Accuracy = 0.8033707865168539\n",
            "\n",
            "\n",
            "[[96  9]\n",
            " [22 51]]\n",
            "Model[3] Testing Accuracy = 0.8258426966292135\n",
            "\n",
            "\n",
            "[[90 15]\n",
            " [19 54]]\n",
            "Model[4] Testing Accuracy = 0.8089887640449438\n",
            "\n",
            "\n",
            "[[77 28]\n",
            " [27 46]]\n",
            "Model[5] Testing Accuracy = 0.6910112359550562\n",
            "\n",
            "\n",
            "[[86 19]\n",
            " [20 53]]\n",
            "Model[6] Testing Accuracy = 0.7808988764044944\n",
            "\n",
            "\n"
          ],
          "name": "stdout"
        }
      ]
    },
    {
      "cell_type": "code",
      "metadata": {
        "id": "O8Qrwn0S88S3",
        "colab_type": "code",
        "outputId": "63c0a02c-9949-4b9c-96ae-7ed4196b6676",
        "colab": {
          "base_uri": "https://localhost:8080/",
          "height": 170
        }
      },
      "source": [
        "#Feature Importance\n",
        "forest = model[6]\n",
        "importances = pd.DataFrame({'feature':titanic.iloc[:,1:8].columns,'importance':np.round(forest.feature_importances_,3)})\n",
        "\n",
        "#The row labels are the items in 'feature'\n",
        "importances = importances.sort_values('importance',ascending=False).set_index('feature')\n",
        "\n",
        "print(importances)"
      ],
      "execution_count": 0,
      "outputs": [
        {
          "output_type": "stream",
          "text": [
            "          importance\n",
            "feature             \n",
            "age            0.328\n",
            "fare           0.272\n",
            "sex            0.182\n",
            "pclass         0.076\n",
            "sibsp          0.058\n",
            "parch          0.053\n",
            "embarked       0.031\n"
          ],
          "name": "stdout"
        }
      ]
    },
    {
      "cell_type": "code",
      "metadata": {
        "id": "KZ-k5Wh8-KRn",
        "colab_type": "code",
        "outputId": "771d3799-3f71-4bec-880a-23c63435e497",
        "colab": {
          "base_uri": "https://localhost:8080/",
          "height": 320
        }
      },
      "source": [
        "importances.plot.bar()\n",
        "plt.ylabel('Importance')\n",
        "plt.show()"
      ],
      "execution_count": 0,
      "outputs": [
        {
          "output_type": "display_data",
          "data": {
            "image/png": "[encoded data removed]",
            "text/plain": [
              "<Figure size 432x288 with 1 Axes>"
            ]
          },
          "metadata": {
            "tags": []
          }
        }
      ]
    },
    {
      "cell_type": "code",
      "metadata": {
        "id": "qt7VBYZA-UDN",
        "colab_type": "code",
        "outputId": "f9972813-b0c6-41e1-9757-23db10098759",
        "colab": {
          "base_uri": "https://localhost:8080/",
          "height": 442
        }
      },
      "source": [
        "#Random Forest Classifier Prediction\n",
        "\n",
        "prediction = model[6].predict(X_test)\n",
        "\n",
        "#1 = survive, 0 = did not survive\n",
        "print(np.array(prediction))\n",
        "\n",
        "#Actual\n",
        "print(np.array(y_test))\n",
        "\n",
        "#True or false predictions\n",
        "print(np.array(prediction)==np.array(y_test))"
      ],
      "execution_count": 0,
      "outputs": [
        {
          "output_type": "stream",
          "text": [
            "[0 0 1 0 0 1 0 1 0 0 1 1 0 1 1 1 0 0 0 1 0 0 1 0 1 0 1 1 1 0 1 1 0 0 1 0 0\n",
            " 0 1 1 1 0 0 0 0 0 0 0 1 1 0 0 0 0 0 1 0 0 0 1 0 0 1 0 1 1 1 1 0 0 0 0 0 1\n",
            " 1 0 0 0 1 0 0 1 0 0 0 1 1 1 0 0 1 0 0 1 0 0 0 1 0 0 0 1 0 0 1 1 0 0 0 0 1\n",
            " 0 1 1 0 1 0 0 1 0 1 0 1 1 1 0 0 1 1 0 1 0 0 1 1 1 0 1 0 0 0 1 0 1 0 0 1 1\n",
            " 0 1 0 0 0 1 1 0 0 0 0 0 0 0 0 0 0 0 0 1 1 1 1 0 1 1 0 1 0 0]\n",
            "[1 0 1 0 0 1 0 0 0 0 1 0 0 1 1 0 0 1 0 0 0 1 0 0 1 0 1 0 1 1 0 1 1 0 1 0 0\n",
            " 0 0 1 0 1 0 0 0 1 1 0 1 1 0 0 0 1 0 1 0 0 1 1 0 0 1 0 0 1 1 1 0 1 0 0 1 0\n",
            " 1 0 0 0 1 0 0 1 1 1 0 1 0 1 0 0 0 0 1 0 0 0 1 1 0 0 0 1 0 0 1 0 0 0 0 0 1\n",
            " 0 1 1 1 1 0 0 0 0 1 0 1 1 1 0 0 1 0 0 1 0 0 1 1 0 0 1 0 0 0 1 0 1 0 0 1 1\n",
            " 0 1 0 0 0 1 1 1 0 0 0 0 0 0 1 0 0 0 1 1 1 0 1 0 1 1 0 1 0 0]\n",
            "[False  True  True  True  True  True  True False  True  True  True False\n",
            "  True  True  True False  True False  True False  True False False  True\n",
            "  True  True  True False  True False False  True False  True  True  True\n",
            "  True  True False  True False False  True  True  True False False  True\n",
            "  True  True  True  True  True False  True  True  True  True False  True\n",
            "  True  True  True  True False  True  True  True  True False  True  True\n",
            " False False  True  True  True  True  True  True  True  True False False\n",
            "  True  True False  True  True  True False  True False False  True  True\n",
            " False  True  True  True  True  True  True  True  True False  True  True\n",
            "  True  True  True  True  True  True False  True  True  True False  True\n",
            "  True  True  True  True  True  True  True  True False  True  True  True\n",
            "  True  True  True False  True  True  True  True  True  True  True  True\n",
            "  True  True  True  True  True  True  True  True  True  True  True False\n",
            "  True  True  True  True  True  True False  True  True  True False  True\n",
            "  True False  True  True  True  True  True  True  True  True]\n"
          ],
          "name": "stdout"
        }
      ]
    },
    {
      "cell_type": "markdown",
      "metadata": {
        "id": "nHCiPB9L_di4",
        "colab_type": "text"
      },
      "source": [
        "<h1>Out of Sample Data</h1>"
      ]
    },
    {
      "cell_type": "code",
      "metadata": {
        "id": "QqzMIcSQ-4ga",
        "colab_type": "code",
        "outputId": "0a9ff6c4-498f-4b79-fbc0-07b7e1fd9c42",
        "colab": {
          "base_uri": "https://localhost:8080/",
          "height": 34
        }
      },
      "source": [
        "#Each value corresponds to the feature/column of same index\n",
        "survival = [[3,1,21,0,0,0,1]]\n",
        "\n",
        "#StandardScaler\n",
        "sc = StandardScaler()\n",
        "\n",
        "#Out of sample data\n",
        "survival_scaled = sc.fit_transform(survival)\n",
        "\n",
        "#Random Forest Classifier (model[6]) Prediction\n",
        "prediction = model[6].predict(survival)\n",
        "\n",
        "if prediction == 0:\n",
        "  print('Did not survive!')\n",
        "elif prediction == 1:\n",
        "  print('Survived!')"
      ],
      "execution_count": 0,
      "outputs": [
        {
          "output_type": "stream",
          "text": [
            "Did not survive!\n"
          ],
          "name": "stdout"
        }
      ]
    }
  ]
}